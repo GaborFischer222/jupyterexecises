{
  "metadata": {
    "kernelspec": {
      "name": "python",
      "display_name": "Python (Pyodide)",
      "language": "python"
    },
    "language_info": {
      "codemirror_mode": {
        "name": "python",
        "version": 3
      },
      "file_extension": ".py",
      "mimetype": "text/x-python",
      "name": "python",
      "nbconvert_exporter": "python",
      "pygments_lexer": "ipython3",
      "version": "3.8"
    }
  },
  "nbformat_minor": 5,
  "nbformat": 4,
  "cells": [
    {
      "id": "803f1b6c-0991-419e-9983-b27b47f6abe9",
      "cell_type": "markdown",
      "source": "# Data Science Tools and Ecosystem",
      "metadata": {}
    },
    {
      "id": "e3bdfd5c-6d46-4fc1-a7e9-90cb7943fb0f",
      "cell_type": "markdown",
      "source": "In this notebbook, Data Science Tools and Ecosystem are summerizes",
      "metadata": {}
    },
    {
      "id": "0cd6d035-e7ed-430e-84dc-ac50343bcf1f",
      "cell_type": "markdown",
      "source": "**Objectives:**\n* R\n* Python\n* Julia\n* Scala",
      "metadata": {}
    },
    {
      "id": "9595cfbf-dadd-4095-b025-e811e842f259",
      "cell_type": "markdown",
      "source": "Some of the popular languages that Data Scientists use are:\n1. R\n2. Python\n3. SQL\n4. Java\n5. Scala\n6. Julia",
      "metadata": {}
    },
    {
      "id": "2c2ab61e-3ffe-4003-aff2-3ddbcd5e6546",
      "cell_type": "markdown",
      "source": "Some of the commonly used libraries used by Data Scientists include:\n1. NumPy\n2. Pandas\n3. Matplotlib\n4. Seaborn",
      "metadata": {}
    },
    {
      "id": "c4c19bab-8840-4001-883b-e98ee1d74b29",
      "cell_type": "markdown",
      "source": "|three envelopment environment open source tools used in data science|\n|-------------------|\n|Tensorflow|\n|Apache Spark|\n|Hadoop|",
      "metadata": {}
    },
    {
      "id": "b80a9f8a-54e5-46a0-b20a-8ca1c5fc500e",
      "cell_type": "markdown",
      "source": "### Below are a few examples of evaluating arithmetic expressions in Python",
      "metadata": {}
    },
    {
      "id": "0f7d10bb-dfdb-46c6-ad9b-3db0daf5966c",
      "cell_type": "code",
      "source": "# This is a simple arithmetic expression to multiply then add integers.",
      "metadata": {
        "trusted": true
      },
      "outputs": [],
      "execution_count": 1
    },
    {
      "id": "eef89e27-7382-445d-a327-83a024a6d21e",
      "cell_type": "code",
      "source": "(3*4)+5",
      "metadata": {
        "trusted": true
      },
      "outputs": [
        {
          "execution_count": 2,
          "output_type": "execute_result",
          "data": {
            "text/plain": "17"
          },
          "metadata": {}
        }
      ],
      "execution_count": 2
    },
    {
      "id": "f9f06299-c5ba-45f9-83ef-07e20ca69554",
      "cell_type": "code",
      "source": "# This will convert 200 minutes to hours by diving by 60",
      "metadata": {
        "trusted": true
      },
      "outputs": [],
      "execution_count": 3
    },
    {
      "id": "b5567503-ed89-4928-817f-b8f404d18aad",
      "cell_type": "code",
      "source": "200/60",
      "metadata": {
        "trusted": true
      },
      "outputs": [
        {
          "execution_count": 4,
          "output_type": "execute_result",
          "data": {
            "text/plain": "3.3333333333333335"
          },
          "metadata": {}
        }
      ],
      "execution_count": 4
    },
    {
      "id": "9314696b-bebf-489f-bd0c-5387e564bf43",
      "cell_type": "markdown",
      "source": "## Author Gabor Fischer",
      "metadata": {}
    },
    {
      "id": "4d1a3dce-d2ea-4083-9ad2-b2be6fad3a78",
      "cell_type": "markdown",
      "source": "",
      "metadata": {}
    }
  ]
}